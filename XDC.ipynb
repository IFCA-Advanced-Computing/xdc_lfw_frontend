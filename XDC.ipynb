{
 "cells": [
  {
   "cell_type": "markdown",
   "metadata": {},
   "source": [
    "# XDC LifeWatch Use Case\n",
    "<div class=\"row\" style=\"clear:both;display: table;\">\n",
    "    <div class=\"column\" style=\"float: left;width: 25%;padding: 5px;\">\n",
    "        <div class=\"row\" style=\"float: left;width: 100%; height: 50%; padding: 5px;\">\n",
    "            <img style=\"width:100%; height:75%\" src=\"https://pbs.twimg.com/profile_images/1046719562111225856/xBBw0EM2_400x400.jpg\">\n",
    "        </div>\n",
    "        <div class=\"row\" style=\"float: left;width: 100%; height: 50%; padding: 5px;\">\n",
    "            <img style=\"width:100%; height:75%\" src=\"https://www.santandercreativa.com/ekh2983gd29837gt_uploads/web_2/organizaciones_images/image_organizacion_final_425_2015-03-24_12_58_49.jpg\">\n",
    "        </div>\n",
    "    </div>\n",
    "    <div class=\"column\" style=\"float: left;width: 70%; height:70%; padding: 5px;\">\n",
    "        <img style=\"width:50%; height:50%\" src=\"http://www.extreme-datacloud.eu/wp-content/uploads/2018/01/logo1_small-2.png\">\n",
    "    </div>\n",
    "</div>"
   ]
  },
  {
   "cell_type": "code",
   "execution_count": 1,
   "metadata": {},
   "outputs": [],
   "source": [
    "%run -i XDC_nb.py"
   ]
  },
  {
   "cell_type": "code",
   "execution_count": 2,
   "metadata": {},
   "outputs": [
    {
     "data": {
      "application/vnd.jupyter.widget-view+json": {
       "model_id": "76198b43cfd746288c0f463fe4e11730",
       "version_major": 2,
       "version_minor": 0
      },
      "text/plain": [
       "VBox(children=(VBox(children=(Text(value='MDAxNWxvY2F00aW9uIG9uZXpvbmUKMDAzMGlkZW500aWZpZXIgOTAwNGNlNzBiYWQyMT…"
      ]
     },
     "metadata": {},
     "output_type": "display_data"
    }
   ],
   "source": [
    "onedata_wid = widgets.Text(\n",
    "    value='',\n",
    "    placeholder='Onedata token',\n",
    "    description='Onedata token:',\n",
    "    disabled=False\n",
    ")\n",
    "onedata_wid.value = os.environ['ONECLIENT_AUTHORIZATION_TOKEN']\n",
    "\n",
    "region_buttons = widgets.ToggleButtons(\n",
    "    options=['CdP'],\n",
    "    description='Reservoirs:',\n",
    ")\n",
    "ini_date = widgets.DatePicker(\n",
    "    description='Initial Date',\n",
    "    disabled=False\n",
    ")\n",
    "end_date = widgets.DatePicker(\n",
    "    description='End Date',\n",
    "    disabled=False\n",
    ")\n",
    "actions = widgets.SelectMultiple(\n",
    "    options=['meteo', 'water_mask', 'water_surface', 'cloud_mask', 'cloud_coverage', 'list_files', 'model'],\n",
    "    value=['meteo'],\n",
    "    #rows=10,\n",
    "    description='Actions',\n",
    "    disabled=False\n",
    ")\n",
    "tab = VBox(children=[onedata_wid, region_buttons, ini_date, end_date, actions])\n",
    "\n",
    "button = widgets.Button(\n",
    "    description='Run',\n",
    ")\n",
    "\n",
    "last_model=''\n",
    "\n",
    "out = widgets.Output()\n",
    "@button.on_click\n",
    "def plot_on_click(b):\n",
    "    with out:\n",
    "        clear_output()\n",
    "        if actions.value[0] == 'meteo':\n",
    "            plot_meteo(region_buttons,ini_date,end_date,actions)\n",
    "        elif actions.value[0] == 'list_files':\n",
    "            find_dataset_type(ini_date.value,end_date.value,'',onedata_wid.value)\n",
    "        elif actions.value[0] == 'model':\n",
    "            last_model=prepare_model(ini_date.value,end_date.value, region_buttons.value, '/home/jovyan/datasets/LifeWatch/',onedata_wid.value)\n",
    "        else:\n",
    "            plot_satellite(region_buttons,ini_date,end_date,actions)\n",
    "\n",
    "VBox(children=[tab,button,out])"
   ]
  },
  {
   "cell_type": "code",
   "execution_count": 3,
   "metadata": {},
   "outputs": [
    {
     "name": "stdout",
     "output_type": "stream",
     "text": [
      "Rquesting access token: 200\n",
      "Status code: 200\n",
      "{\n",
      "  \"createdBy\": {\n",
      "    \"issuer\": \"https://iam.extreme-datacloud.eu/\",\n",
      "    \"subject\": \"e4b6b20f-0e94-40c2-b76d-bf233f502604\"\n",
      "  },\n",
      "  \"creationTime\": \"2019-08-08T11:53+0000\",\n",
      "  \"links\": [\n",
      "    {\n",
      "      \"href\": \"https://xdc-paas.cloud.ba.infn.it/orchestrator/deployments/11e9b9d3-14fd-6767-8e9e-024269aad3f4\",\n",
      "      \"rel\": \"self\"\n",
      "    },\n",
      "    {\n",
      "      \"href\": \"https://xdc-paas.cloud.ba.infn.it/orchestrator/deployments/11e9b9d3-14fd-6767-8e9e-024269aad3f4/resources\",\n",
      "      \"rel\": \"resources\"\n",
      "    },\n",
      "    {\n",
      "      \"href\": \"https://xdc-paas.cloud.ba.infn.it/orchestrator/deployments/11e9b9d3-14fd-6767-8e9e-024269aad3f4/template\",\n",
      "      \"rel\": \"template\"\n",
      "    }\n",
      "  ],\n",
      "  \"outputs\": {},\n",
      "  \"status\": \"CREATE_FAILED\",\n",
      "  \"statusReason\": \"Error retrieving SLAs from SLAM; nested exception is it.reply.orchestrator.exception.service.DeploymentException: Error fetching SLA for customer <eXtreme-DataCloud> from SLAM.; nested exception is org.springframework.web.client.ResourceAccessException: I/O error on GET request for \\\"https://xdc-slam.cloud.ba.infn.it:8443/rest/slam/preferences/eXtreme-DataCloud\\\": sun.security.validator.ValidatorException: PKIX path validation failed: java.security.cert.CertPathValidatorException: validity check failed; nested exception is javax.net.ssl.SSLHandshakeException: sun.security.validator.ValidatorException: PKIX path validation failed: java.security.cert.CertPathValidatorException: validity check failed\",\n",
      "  \"task\": \"NONE\",\n",
      "  \"updateTime\": \"2019-08-08T11:53+0000\",\n",
      "  \"uuid\": \"11e9b9d3-14fd-6767-8e9e-024269aad3f4\"\n",
      "}\n"
     ]
    },
    {
     "data": {
      "text/plain": [
       "b'{\"uuid\":\"11e9b9d3-14fd-6767-8e9e-024269aad3f4\",\"creationTime\":\"2019-08-08T11:53+0000\",\"updateTime\":\"2019-08-08T11:53+0000\",\"status\":\"CREATE_FAILED\",\"statusReason\":\"Error retrieving SLAs from SLAM; nested exception is it.reply.orchestrator.exception.service.DeploymentException: Error fetching SLA for customer <eXtreme-DataCloud> from SLAM.; nested exception is org.springframework.web.client.ResourceAccessException: I/O error on GET request for \\\\\"https://xdc-slam.cloud.ba.infn.it:8443/rest/slam/preferences/eXtreme-DataCloud\\\\\": sun.security.validator.ValidatorException: PKIX path validation failed: java.security.cert.CertPathValidatorException: validity check failed; nested exception is javax.net.ssl.SSLHandshakeException: sun.security.validator.ValidatorException: PKIX path validation failed: java.security.cert.CertPathValidatorException: validity check failed\",\"outputs\":{},\"task\":\"NONE\",\"createdBy\":{\"issuer\":\"https://iam.extreme-datacloud.eu/\",\"subject\":\"e4b6b20f-0e94-40c2-b76d-bf233f502604\"},\"links\":[{\"rel\":\"self\",\"href\":\"https://xdc-paas.cloud.ba.infn.it/orchestrator/deployments/11e9b9d3-14fd-6767-8e9e-024269aad3f4\"},{\"rel\":\"resources\",\"href\":\"https://xdc-paas.cloud.ba.infn.it/orchestrator/deployments/11e9b9d3-14fd-6767-8e9e-024269aad3f4/resources\"},{\"rel\":\"template\",\"href\":\"https://xdc-paas.cloud.ba.infn.it/orchestrator/deployments/11e9b9d3-14fd-6767-8e9e-024269aad3f4/template\"}]}'"
      ]
     },
     "execution_count": 3,
     "metadata": {},
     "output_type": "execute_result"
    }
   ],
   "source": [
    "orchestrator_job_status('11e9b9d3-14fd-6767-8e9e-024269aad3f4')"
   ]
  },
  {
   "cell_type": "markdown",
   "metadata": {},
   "source": [
    "### Data Visualization"
   ]
  },
  {
   "cell_type": "code",
   "execution_count": 9,
   "metadata": {},
   "outputs": [
    {
     "name": "stdout",
     "output_type": "stream",
     "text": [
      "Searching models\n"
     ]
    },
    {
     "ename": "TypeError",
     "evalue": "string indices must be integers",
     "output_type": "error",
     "traceback": [
      "\u001b[0;31m---------------------------------------------------------------------------\u001b[0m",
      "\u001b[0;31mTypeError\u001b[0m                                 Traceback (most recent call last)",
      "\u001b[0;32m~/XDC_nb.py\u001b[0m in \u001b[0;36m<module>\u001b[0;34m\u001b[0m\n\u001b[1;32m      3\u001b[0m \u001b[0mopt\u001b[0m \u001b[0;34m=\u001b[0m \u001b[0;34m[\u001b[0m\u001b[0;34m]\u001b[0m\u001b[0;34m\u001b[0m\u001b[0;34m\u001b[0m\u001b[0m\n\u001b[1;32m      4\u001b[0m \u001b[0;32mfor\u001b[0m \u001b[0me\u001b[0m \u001b[0;32min\u001b[0m \u001b[0mmodels\u001b[0m\u001b[0;34m:\u001b[0m\u001b[0;34m\u001b[0m\u001b[0;34m\u001b[0m\u001b[0m\n\u001b[0;32m----> 5\u001b[0;31m     \u001b[0mopt\u001b[0m\u001b[0;34m.\u001b[0m\u001b[0mappend\u001b[0m\u001b[0;34m(\u001b[0m\u001b[0me\u001b[0m\u001b[0;34m[\u001b[0m\u001b[0;34m'key'\u001b[0m\u001b[0;34m]\u001b[0m\u001b[0;34m[\u001b[0m\u001b[0;34m'region'\u001b[0m\u001b[0;34m]\u001b[0m\u001b[0;34m+\u001b[0m\u001b[0;34m'/model_'\u001b[0m\u001b[0;34m+\u001b[0m\u001b[0me\u001b[0m\u001b[0;34m[\u001b[0m\u001b[0;34m'key'\u001b[0m\u001b[0;34m]\u001b[0m\u001b[0;34m[\u001b[0m\u001b[0;34m'beginDate'\u001b[0m\u001b[0;34m]\u001b[0m\u001b[0;34m+\u001b[0m\u001b[0;34m'_'\u001b[0m\u001b[0;34m+\u001b[0m\u001b[0me\u001b[0m\u001b[0;34m[\u001b[0m\u001b[0;34m'key'\u001b[0m\u001b[0;34m]\u001b[0m\u001b[0;34m[\u001b[0m\u001b[0;34m'endDate'\u001b[0m\u001b[0;34m]\u001b[0m\u001b[0;34m+\u001b[0m\u001b[0;34m'/trim-test_1.nc'\u001b[0m\u001b[0;34m)\u001b[0m\u001b[0;34m\u001b[0m\u001b[0;34m\u001b[0m\u001b[0m\n\u001b[0m\u001b[1;32m      6\u001b[0m \u001b[0;34m\u001b[0m\u001b[0m\n\u001b[1;32m      7\u001b[0m selection = widgets.Select(\n",
      "\u001b[0;31mTypeError\u001b[0m: string indices must be integers"
     ]
    }
   ],
   "source": [
    "onedata_token = os.environ['ONECLIENT_AUTHORIZATION_TOKEN']\n",
    "models = find_models(onedata_token)\n",
    "opt = []\n",
    "for e in models:\n",
    "    opt.append(e['key']['region']+'/model_'+e['key']['beginDate']+'_'+e['key']['endDate']+'/trim-test_1.nc')\n",
    "\n",
    "selection = widgets.Select(\n",
    "    options=opt,\n",
    "    value=None,\n",
    "    # rows=10,\n",
    "    description='Models',\n",
    "    disabled=False\n",
    ")\n",
    "\n",
    "depth_wid = widgets.IntSlider(\n",
    "    value=7,\n",
    "    min=0,\n",
    "    max=35,\n",
    "    step=1,\n",
    "    description='Test:',\n",
    "    disabled=False,\n",
    "    continuous_update=False,\n",
    "    orientation='horizontal',\n",
    "    readout=True,\n",
    "    readout_format='d'\n",
    ")\n",
    "button = widgets.Button(\n",
    "    description='Show model output',\n",
    ")\n",
    "\n",
    "out2 = widgets.Output()\n",
    "\n",
    "@button.on_click\n",
    "def model_on_click(b):\n",
    "    with out2:\n",
    "        clear_output()\n",
    "        for e in models:\n",
    "            temp_map('/home/jovyan/datasets/LifeWatch/' + selection.value, e['key']['beginDate']+' 00:00:00', e['key']['endDate']+' 01:00:00', depth_wid.value)\n",
    "            break\n",
    "\n",
    "VBox(children=[selection,depth_wid,button,out2])"
   ]
  }
 ],
 "metadata": {
  "kernelspec": {
   "display_name": "Python 3",
   "language": "python",
   "name": "python3"
  },
  "language_info": {
   "codemirror_mode": {
    "name": "ipython",
    "version": 3
   },
   "file_extension": ".py",
   "mimetype": "text/x-python",
   "name": "python",
   "nbconvert_exporter": "python",
   "pygments_lexer": "ipython3",
   "version": "3.6.7"
  }
 },
 "nbformat": 4,
 "nbformat_minor": 2
}
