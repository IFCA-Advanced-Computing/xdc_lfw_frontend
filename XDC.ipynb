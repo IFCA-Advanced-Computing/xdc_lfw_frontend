{
 "cells": [
  {
   "cell_type": "markdown",
   "metadata": {},
   "source": [
    "# XDC LifeWatch Use Case\n",
    "<div class=\"row\" style=\"clear:both;display: table;\">\n",
    "    <div class=\"column\" style=\"float: left;width: 25%;padding: 5px;\">\n",
    "        <div class=\"row\" style=\"float: left;width: 100%; height: 50%; padding: 5px;\">\n",
    "            <img style=\"width:100%; height:75%\" src=\"https://pbs.twimg.com/profile_images/1046719562111225856/xBBw0EM2_400x400.jpg\">\n",
    "        </div>\n",
    "        <div class=\"row\" style=\"float: left;width: 100%; height: 50%; padding: 5px;\">\n",
    "            <img style=\"width:100%; height:75%\" src=\"https://www.santandercreativa.com/ekh2983gd29837gt_uploads/web_2/organizaciones_images/image_organizacion_final_425_2015-03-24_12_58_49.jpg\">\n",
    "        </div>\n",
    "    </div>\n",
    "    <div class=\"column\" style=\"float: left;width: 70%; height:70%; padding: 5px;\">\n",
    "        <img style=\"width:50%; height:50%\" src=\"http://www.extreme-datacloud.eu/wp-content/uploads/2018/01/logo1_small-2.png\">\n",
    "    </div>\n",
    "</div>"
   ]
  },
  {
   "cell_type": "code",
   "execution_count": 10,
   "metadata": {},
   "outputs": [],
   "source": [
    "%run -i XDC_nb.py"
   ]
  },
  {
   "cell_type": "code",
   "execution_count": 7,
   "metadata": {},
   "outputs": [
    {
     "data": {
      "application/vnd.jupyter.widget-view+json": {
       "model_id": "da9019b136cd4b9b81da23ce4c8ef517",
       "version_major": 2,
       "version_minor": 0
      },
      "text/plain": [
       "VBox(children=(VBox(children=(Text(value='MDAxNWxvY2F00aW9uIG9uZXpvbmUKMDAzMGlkZW500aWZpZXIgYmJlMjEzYzZhZmU4Nz…"
      ]
     },
     "metadata": {},
     "output_type": "display_data"
    }
   ],
   "source": [
    "onedata_wid = widgets.Text(\n",
    "    value='',\n",
    "    placeholder='Onedata token',\n",
    "    description='Onedata token:',\n",
    "    disabled=False\n",
    ")\n",
    "onedata_wid.value = os.environ['ONECLIENT_AUTHORIZATION_TOKEN']\n",
    "\n",
    "region_buttons = widgets.ToggleButtons(\n",
    "    options=['CdP'],\n",
    "    description='Reservoirs:',\n",
    ")\n",
    "ini_date = widgets.DatePicker(\n",
    "    description='Initial Date',\n",
    "    disabled=False\n",
    ")\n",
    "end_date = widgets.DatePicker(\n",
    "    description='End Date',\n",
    "    disabled=False\n",
    ")\n",
    "actions = widgets.SelectMultiple(\n",
    "    options=['meteo', 'water_mask', 'water_surface', 'cloud_mask', 'cloud_coverage', 'list_files', 'model'],\n",
    "    value=['meteo'],\n",
    "    #rows=10,\n",
    "    description='Actions',\n",
    "    disabled=False\n",
    ")\n",
    "tab = VBox(children=[onedata_wid, region_buttons, ini_date, end_date, actions])\n",
    "\n",
    "button = widgets.Button(\n",
    "    description='Run',\n",
    ")\n",
    "\n",
    "last_model=''\n",
    "\n",
    "out = widgets.Output()\n",
    "@button.on_click\n",
    "def plot_on_click(b):\n",
    "    with out:\n",
    "        clear_output()\n",
    "        if actions.value[0] == 'meteo':\n",
    "            plot_meteo(region_buttons,ini_date,end_date,actions)\n",
    "        elif actions.value[0] == 'list_files':\n",
    "            find_dataset_type(ini_date.value,end_date.value,'',onedata_wid.value)\n",
    "        elif actions.value[0] == 'model':\n",
    "            last_model=prepare_model(ini_date.value,end_date.value, region_buttons.value, '/home/jovyan/datasets/LifeWatch/')\n",
    "        else:\n",
    "            plot_satellite(region_buttons,ini_date,end_date,actions)\n",
    "\n",
    "VBox(children=[tab,button,out])"
   ]
  },
  {
   "cell_type": "code",
   "execution_count": 13,
   "metadata": {},
   "outputs": [
    {
     "name": "stdout",
     "output_type": "stream",
     "text": [
      "Rquesting access token: 200\n",
      "Status code: 200\n",
      "{\"uuid\":\"11e93b73-4faa-2823-aad6-1a5107836184\",\"creationTime\":\"2019-02-28T16:10+0000\",\"updateTime\":\"2019-02-28T16:16+0000\",\"physicalId\":\"<NO_ENDPOINT>\",\"status\":\"CREATE_COMPLETE\",\"outputs\":{},\"task\":\"NONE\",\"cloudProviderName\":\"provider-RECAS-BARI\",\"createdBy\":{\"issuer\":\"https://iam.extreme-datacloud.eu/\",\"subject\":\"e4b6b20f-0e94-40c2-b76d-bf233f502604\"},\"links\":[{\"rel\":\"self\",\"href\":\"https://xdc-paas.cloud.ba.infn.it/orchestrator/deployments/11e93b73-4faa-2823-aad6-1a5107836184\"},{\"rel\":\"resources\",\"href\":\"https://xdc-paas.cloud.ba.infn.it/orchestrator/deployments/11e93b73-4faa-2823-aad6-1a5107836184/resources\"},{\"rel\":\"template\",\"href\":\"https://xdc-paas.cloud.ba.infn.it/orchestrator/deployments/11e93b73-4faa-2823-aad6-1a5107836184/template\"}]}\n",
      "OK\n"
     ]
    },
    {
     "data": {
      "text/plain": [
       "b'{\"uuid\":\"11e93b73-4faa-2823-aad6-1a5107836184\",\"creationTime\":\"2019-02-28T16:10+0000\",\"updateTime\":\"2019-02-28T16:16+0000\",\"physicalId\":\"<NO_ENDPOINT>\",\"status\":\"CREATE_COMPLETE\",\"outputs\":{},\"task\":\"NONE\",\"cloudProviderName\":\"provider-RECAS-BARI\",\"createdBy\":{\"issuer\":\"https://iam.extreme-datacloud.eu/\",\"subject\":\"e4b6b20f-0e94-40c2-b76d-bf233f502604\"},\"links\":[{\"rel\":\"self\",\"href\":\"https://xdc-paas.cloud.ba.infn.it/orchestrator/deployments/11e93b73-4faa-2823-aad6-1a5107836184\"},{\"rel\":\"resources\",\"href\":\"https://xdc-paas.cloud.ba.infn.it/orchestrator/deployments/11e93b73-4faa-2823-aad6-1a5107836184/resources\"},{\"rel\":\"template\",\"href\":\"https://xdc-paas.cloud.ba.infn.it/orchestrator/deployments/11e93b73-4faa-2823-aad6-1a5107836184/template\"}]}'"
      ]
     },
     "execution_count": 13,
     "metadata": {},
     "output_type": "execute_result"
    }
   ],
   "source": [
    "orchestrator_job_status('11e93b73-4faa-2823-aad6-1a5107836184')"
   ]
  },
  {
   "cell_type": "markdown",
   "metadata": {},
   "source": [
    "### Data Visualization"
   ]
  },
  {
   "cell_type": "code",
   "execution_count": 17,
   "metadata": {},
   "outputs": [
    {
     "name": "stdout",
     "output_type": "stream",
     "text": [
      "Onedata space ID: 17d670040b30511bc4848cab56449088\n"
     ]
    },
    {
     "data": {
      "application/vnd.jupyter.widget-view+json": {
       "model_id": "78a621b68b354ab7802971f3d78ae7e6",
       "version_major": 2,
       "version_minor": 0
      },
      "text/plain": [
       "VBox(children=(Select(description='Models', options=('model_2019-02-03_2019-02-04/trim-test_1.nc', 'model_2019…"
      ]
     },
     "metadata": {},
     "output_type": "display_data"
    }
   ],
   "source": [
    "onedata_token = os.environ['ONECLIENT_AUTHORIZATION_TOKEN']\n",
    "models = find_models(onedata_token)\n",
    "opt = []\n",
    "for e in models:\n",
    "    opt.append(e['model_output'])\n",
    "\n",
    "selection = widgets.Select(\n",
    "    options=opt,\n",
    "    value=None,\n",
    "    # rows=10,\n",
    "    description='Models',\n",
    "    disabled=False\n",
    ")\n",
    "\n",
    "depth_wid = widgets.IntSlider(\n",
    "    value=7,\n",
    "    min=0,\n",
    "    max=35,\n",
    "    step=1,\n",
    "    description='Test:',\n",
    "    disabled=False,\n",
    "    continuous_update=False,\n",
    "    orientation='horizontal',\n",
    "    readout=True,\n",
    "    readout_format='d'\n",
    ")\n",
    "button = widgets.Button(\n",
    "    description='Show model output',\n",
    ")\n",
    "\n",
    "out2 = widgets.Output()\n",
    "\n",
    "@button.on_click\n",
    "def model_on_click(b):\n",
    "    with out2:\n",
    "        clear_output()\n",
    "        for e in models:\n",
    "            if selection.value in e['model_output']:\n",
    "                temp_map('/home/jovyan/datasets/LifeWatch/CdP/' + selection.value, e['beginDate']+' 00:00:00', e['endDate']+' 01:00:00', depth_wid.value)\n",
    "            break\n",
    "\n",
    "VBox(children=[selection,depth_wid,button,out2])"
   ]
  },
  {
   "cell_type": "code",
   "execution_count": 16,
   "metadata": {},
   "outputs": [
    {
     "name": "stdout",
     "output_type": "stream",
     "text": [
      "[{'model_output': 'model_2019-02-03_2019-02-04/trim-test_1.nc', 'beginDate': '2019-02-03', 'endDate': '2019-02-04'}, {'model_output': 'model_2019-02-03_2019-02-04/trim-test_1.nc', 'beginDate': '2019-02-03', 'endDate': '2019-02-04'}]\n"
     ]
    }
   ],
   "source": [
    "print(models)"
   ]
  }
 ],
 "metadata": {
  "kernelspec": {
   "display_name": "Python 3",
   "language": "python",
   "name": "python3"
  },
  "language_info": {
   "codemirror_mode": {
    "name": "ipython",
    "version": 3
   },
   "file_extension": ".py",
   "mimetype": "text/x-python",
   "name": "python",
   "nbconvert_exporter": "python",
   "pygments_lexer": "ipython3",
   "version": "3.6.8"
  }
 },
 "nbformat": 4,
 "nbformat_minor": 2
}
